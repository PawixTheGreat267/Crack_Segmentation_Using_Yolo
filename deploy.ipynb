{
 "cells": [
  {
   "cell_type": "code",
   "execution_count": 3,
   "id": "f93c81fb",
   "metadata": {},
   "outputs": [],
   "source": [
    "import os \n",
    "os.environ['KMP_DUPLICATE_LIB_OK'] = 'True'\n",
    "from ultralytics import YOLO\n",
    "from pathlib import Path"
   ]
  },
  {
   "cell_type": "code",
   "execution_count": 10,
   "id": "edc08fbe",
   "metadata": {},
   "outputs": [
    {
     "name": "stdout",
     "output_type": "stream",
     "text": [
      "Running on GPU: NVIDIA GeForce RTX 2050\n"
     ]
    }
   ],
   "source": [
    "import torch\n",
    "\n",
    "if torch.cuda.is_available():\n",
    "    print(\"Running on GPU:\", torch.cuda.get_device_name(0))\n",
    "else:\n",
    "    print(\"Running on CPU\")"
   ]
  },
  {
   "cell_type": "code",
   "execution_count": 5,
   "id": "a2b9a330",
   "metadata": {},
   "outputs": [
    {
     "name": "stdout",
     "output_type": "stream",
     "text": [
      "c:\\Users\\ACER\\OneDrive\\Desktop\\PAOLO\\MSU-IIT\\BS COM ENG (1st Sem_2024-2025)\\COE190\\Yolo\\crack_segmentation\n"
     ]
    }
   ],
   "source": [
    "main_path = Path.cwd()\n",
    "\n",
    "print(main_path)"
   ]
  },
  {
   "cell_type": "code",
   "execution_count": 6,
   "id": "63101982",
   "metadata": {},
   "outputs": [],
   "source": [
    "model = YOLO(main_path / \"runs\" / \"segment\" / \"train\" / \"weights\" / \"best.pt\")"
   ]
  },
  {
   "cell_type": "code",
   "execution_count": 7,
   "id": "60596b38",
   "metadata": {},
   "outputs": [
    {
     "name": "stdout",
     "output_type": "stream",
     "text": [
      "Ultralytics 8.3.19  Python-3.11.9 torch-2.5.0+cu124 CUDA:0 (NVIDIA GeForce RTX 2050, 4096MiB)\n",
      "YOLOv8s-seg summary (fused): 195 layers, 11,779,987 parameters, 0 gradients, 42.4 GFLOPs\n"
     ]
    },
    {
     "name": "stderr",
     "output_type": "stream",
     "text": [
      "\u001b[34m\u001b[1mval: \u001b[0mScanning C:\\Users\\ACER\\OneDrive\\Desktop\\PAOLO\\MSU-IIT\\BS COM ENG (1st Sem_2024-2025)\\COE190\\Yolo\\crack_segmentation\\Crack_Segmentation_Using_Yolo\\crack-seg\\labels\\val.cache... 200 images, 1 backgrounds, 0 corrupt: 100%|██████████| 200/200 [00:00<?, ?it/s]\n",
      "                 Class     Images  Instances      Box(P          R      mAP50  mAP50-95)     Mask(P          R      mAP50  mAP50-95): 100%|██████████| 13/13 [00:05<00:00,  2.30it/s]\n"
     ]
    },
    {
     "name": "stdout",
     "output_type": "stream",
     "text": [
      "                   all        200        249      0.832      0.719      0.771      0.572      0.817      0.663      0.691      0.264\n",
      "Speed: 0.6ms preprocess, 9.4ms inference, 0.0ms loss, 5.2ms postprocess per image\n",
      "Results saved to \u001b[1mruns\\segment\\val\u001b[0m\n",
      "0.5724686297367613\n",
      "0.7707257094306568\n",
      "0.6656056661515767\n",
      "[    0.57247]\n"
     ]
    }
   ],
   "source": [
    "# Validate the model\n",
    "metrics = model.val()  # no arguments needed, dataset and settings remembered\n",
    "print(metrics.box.map)  # map50-95\n",
    "print(metrics.box.map50)  # map50\n",
    "print(metrics.box.map75)  # map75\n",
    "print(metrics.box.maps)  # a list contains map50-95 of each category"
   ]
  }
 ],
 "metadata": {
  "kernelspec": {
   "display_name": "yolo",
   "language": "python",
   "name": "python3"
  },
  "language_info": {
   "codemirror_mode": {
    "name": "ipython",
    "version": 3
   },
   "file_extension": ".py",
   "mimetype": "text/x-python",
   "name": "python",
   "nbconvert_exporter": "python",
   "pygments_lexer": "ipython3",
   "version": "3.11.9"
  }
 },
 "nbformat": 4,
 "nbformat_minor": 5
}
